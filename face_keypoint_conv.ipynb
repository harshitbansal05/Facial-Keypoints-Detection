{
 "cells": [
  {
   "cell_type": "code",
   "execution_count": 1,
   "metadata": {},
   "outputs": [],
   "source": [
    "import pandas as pd\n",
    "import numpy as np\n",
    "import os\n",
    "from sklearn.utils import shuffle\n",
    "import tensorflow as tf"
   ]
  },
  {
   "cell_type": "code",
   "execution_count": 2,
   "metadata": {},
   "outputs": [],
   "source": [
    "FTRAIN = '~/Downloads/training.csv'\n",
    "FTEST = '~/Downloads/test.csv'\n",
    "\n",
    "def load(test=False, cols=None):\n",
    "    \"\"\"Loads data from FTEST if *test* is True, otherwise from FTRAIN.\n",
    "    Pass a list of *cols* if you're only interested in a subset of the\n",
    "    target columns.\n",
    "    \"\"\"\n",
    "    fname = FTEST if test else FTRAIN\n",
    "    df = pd.read_csv(os.path.expanduser(fname))  # load pandas dataframe\n",
    "\n",
    "    # The Image column has pixel values separated by space; convert\n",
    "    # the values to numpy arrays:\n",
    "    df['Image'] = df['Image'].apply(lambda im: np.fromstring(im, sep=' '))\n",
    "\n",
    "    if cols:  # get a subset of columns\n",
    "        df = df[list(cols) + ['Image']]\n",
    "\n",
    "    print(df.count())  # prints the number of values for each column\n",
    "    df = df.dropna()  # drop all rows that have missing values in them\n",
    "\n",
    "    X = np.vstack(df['Image'].values) / 255.  # scale pixel values to [0, 1]\n",
    "    X = X.astype(np.float32)\n",
    "\n",
    "    if not test:  # only FTRAIN has any target columns\n",
    "        y = df[df.columns[:-1]].values\n",
    "        y = (y - 48) / 48  # scale target coordinates to [-1, 1]\n",
    "        X, y = shuffle(X, y, random_state=42)  # shuffle train data\n",
    "        y = y.astype(np.float32)\n",
    "    else:\n",
    "        y = None\n",
    "\n",
    "    return X, y"
   ]
  },
  {
   "cell_type": "code",
   "execution_count": 3,
   "metadata": {},
   "outputs": [],
   "source": [
    "def load2d(test=False, cols=None):\n",
    "    X, y = load(test=test)\n",
    "    X = X.reshape(-1, 96, 96, 1)\n",
    "    return X, y"
   ]
  },
  {
   "cell_type": "code",
   "execution_count": 4,
   "metadata": {},
   "outputs": [
    {
     "name": "stdout",
     "output_type": "stream",
     "text": [
      "left_eye_center_x            7039\n",
      "left_eye_center_y            7039\n",
      "right_eye_center_x           7036\n",
      "right_eye_center_y           7036\n",
      "left_eye_inner_corner_x      2271\n",
      "left_eye_inner_corner_y      2271\n",
      "left_eye_outer_corner_x      2267\n",
      "left_eye_outer_corner_y      2267\n",
      "right_eye_inner_corner_x     2268\n",
      "right_eye_inner_corner_y     2268\n",
      "right_eye_outer_corner_x     2268\n",
      "right_eye_outer_corner_y     2268\n",
      "left_eyebrow_inner_end_x     2270\n",
      "left_eyebrow_inner_end_y     2270\n",
      "left_eyebrow_outer_end_x     2225\n",
      "left_eyebrow_outer_end_y     2225\n",
      "right_eyebrow_inner_end_x    2270\n",
      "right_eyebrow_inner_end_y    2270\n",
      "right_eyebrow_outer_end_x    2236\n",
      "right_eyebrow_outer_end_y    2236\n",
      "nose_tip_x                   7049\n",
      "nose_tip_y                   7049\n",
      "mouth_left_corner_x          2269\n",
      "mouth_left_corner_y          2269\n",
      "mouth_right_corner_x         2270\n",
      "mouth_right_corner_y         2270\n",
      "mouth_center_top_lip_x       2275\n",
      "mouth_center_top_lip_y       2275\n",
      "mouth_center_bottom_lip_x    7016\n",
      "mouth_center_bottom_lip_y    7016\n",
      "Image                        7049\n",
      "dtype: int64\n"
     ]
    }
   ],
   "source": [
    "X, y = load2d()"
   ]
  },
  {
   "cell_type": "code",
   "execution_count": 5,
   "metadata": {},
   "outputs": [
    {
     "name": "stdout",
     "output_type": "stream",
     "text": [
      "X.shape == (2140, 96, 96, 1); X.min == 0.000; X.max == 1.000\n",
      "y.shape == (2140, 30); y.min == -0.920; y.max == 0.996\n"
     ]
    }
   ],
   "source": [
    "print(\"X.shape == {}; X.min == {:.3f}; X.max == {:.3f}\".format(\n",
    "    X.shape, X.min(), X.max()))\n",
    "print(\"y.shape == {}; y.min == {:.3f}; y.max == {:.3f}\".format(\n",
    "    y.shape, y.min(), y.max()))"
   ]
  },
  {
   "cell_type": "code",
   "execution_count": 6,
   "metadata": {},
   "outputs": [],
   "source": [
    "def fc(x, name, in_channels, out_channels, initializer=None, relu=True):\n",
    "    with tf.variable_scope(name) as scope:\n",
    "        weights = tf.get_variable(name='weights',\n",
    "                                  shape=[in_channels, out_channels],\n",
    "                                  initializer=initializer)\n",
    "        biases = tf.get_variable(name='biases',\n",
    "                                 shape=[out_channels],\n",
    "                                 initializer=initializer)\n",
    "        act = tf.nn.xw_plus_b(x, weights, biases, name=scope.name)\n",
    "    if relu:\n",
    "        act = tf.nn.relu(act)\n",
    "    return act        \n",
    "\n",
    "def conv(x, name, kernel, num_filters, padding, stride=1, initializer=None):\n",
    "    with tf.variable_scope(name) as scope:\n",
    "        conv_ = tf.layers.conv2d(x, num_filters, kernel, stride, padding)\n",
    "        conv_ = tf.nn.relu(conv_, name=scope.name)\n",
    "    return conv_    "
   ]
  },
  {
   "cell_type": "code",
   "execution_count": 64,
   "metadata": {},
   "outputs": [],
   "source": [
    "def inference(x):\n",
    "    # conv1\n",
    "    conv1 = conv(x, 'conv1', kernel=3, num_filters=32, padding='VALID')\n",
    "    pool1 = tf.layers.max_pooling2d(conv1, 2, 2, padding='SAME', name='pool1')\n",
    "    dropout1 = tf.layers.dropout(pool1, rate=0.1, name='dropout1')\n",
    "    # conv2\n",
    "    conv2 = conv(dropout1, 'conv2', kernel=2, num_filters=64, padding='VALID')\n",
    "    pool2 = tf.layers.max_pooling2d(conv2, 2, 2, padding='SAME', name='pool2')\n",
    "    dropout2 = tf.layers.dropout(pool2, rate=0.2, name='dropout2')\n",
    "    # conv3\n",
    "    conv3 = conv(dropout2, 'conv3', kernel=2, num_filters=128, padding='VALID')\n",
    "    pool3 = tf.layers.max_pooling2d(conv3, 2, 2, padding='SAME', name='pool3')\n",
    "    dropout3 = tf.layers.dropout(pool3, rate=0.3, name='dropout3')\n",
    "    # reshape\n",
    "    dropout3 = tf.reshape(dropout3, [-1, 11 * 11 * 128])\n",
    "    # fc4\n",
    "    fc4 = fc(dropout3, 'fc4', 11 * 11 * 128, 1000)\n",
    "    dropout4 = tf.layers.dropout(fc4, rate=0.5, name='dropout4')\n",
    "    # fc5\n",
    "    fc5 = fc(dropout4, 'fc5', 1000, 1000)\n",
    "    # output\n",
    "    output = fc(fc5, 'output', 1000, 30, relu=False)\n",
    "    return output"
   ]
  },
  {
   "cell_type": "code",
   "execution_count": 65,
   "metadata": {},
   "outputs": [],
   "source": [
    "def loss(scores, labels):\n",
    "    loss = tf.losses.mean_squared_error(labels,\n",
    "                                        scores)\n",
    "    return loss"
   ]
  },
  {
   "cell_type": "code",
   "execution_count": 66,
   "metadata": {},
   "outputs": [],
   "source": [
    "def train(loss, learning_rate, momentum):\n",
    "    lr_var_opt = tf.train.MomentumOptimizer(learning_rate, momentum)\n",
    "    lr_var_grads = lr_var_opt.compute_gradients(loss)\n",
    "    apply_gradient_op = lr_var_opt.apply_gradients(lr_var_grads)\n",
    "    return apply_gradient_op"
   ]
  },
  {
   "cell_type": "code",
   "execution_count": 67,
   "metadata": {},
   "outputs": [
    {
     "data": {
      "image/png": "[encoded data removed]",
      "text/plain": [
       "<matplotlib.figure.Figure at 0x7fa60b7b1438>"
      ]
     },
     "metadata": {},
     "output_type": "display_data"
    }
   ],
   "source": [
    "import matplotlib.pyplot as pyplot\n",
    "\n",
    "X_flipped = X[:, :, ::-1, :]  # simple slice to flip all images\n",
    "\n",
    "def plot_sample(x, y, axis):\n",
    "    img = x.reshape(96, 96)\n",
    "    axis.imshow(img, cmap='gray')\n",
    "    axis.scatter(y[0::2] * 48 + 48, y[1::2] * 48 + 48, marker='x', s=10)\n",
    "\n",
    "# plot two images:\n",
    "fig = pyplot.figure(figsize=(6, 3))\n",
    "ax = fig.add_subplot(1, 2, 1, xticks=[], yticks=[])\n",
    "plot_sample(X[1], y[1], ax)\n",
    "ax = fig.add_subplot(1, 2, 2, xticks=[], yticks=[])\n",
    "plot_sample(X_flipped[1], y[1], ax)\n",
    "pyplot.show()"
   ]
  },
  {
   "cell_type": "code",
   "execution_count": 11,
   "metadata": {},
   "outputs": [
    {
     "name": "stdout",
     "output_type": "stream",
     "text": [
      "# left_eye_center_x -> right_eye_center_x\n",
      "# left_eye_center_y -> right_eye_center_y\n",
      "# left_eye_inner_corner_x -> right_eye_inner_corner_x\n",
      "# left_eye_inner_corner_y -> right_eye_inner_corner_y\n",
      "# left_eye_outer_corner_x -> right_eye_outer_corner_x\n",
      "# left_eye_outer_corner_y -> right_eye_outer_corner_y\n",
      "# left_eyebrow_inner_end_x -> right_eyebrow_inner_end_x\n",
      "# left_eyebrow_inner_end_y -> right_eyebrow_inner_end_y\n",
      "# left_eyebrow_outer_end_x -> right_eyebrow_outer_end_x\n",
      "# left_eyebrow_outer_end_y -> right_eyebrow_outer_end_y\n",
      "# mouth_left_corner_x -> mouth_right_corner_x\n",
      "# mouth_left_corner_y -> mouth_right_corner_y\n"
     ]
    }
   ],
   "source": [
    "flip_indices = [\n",
    "    (0, 2), (1, 3),\n",
    "    (4, 8), (5, 9), (6, 10), (7, 11),\n",
    "    (12, 16), (13, 17), (14, 18), (15, 19),\n",
    "    (22, 24), (23, 25),\n",
    "    ]\n",
    "\n",
    "df = pd.read_csv(os.path.expanduser(FTRAIN))\n",
    "for i, j in flip_indices:\n",
    "    print(\"# {} -> {}\".format(df.columns[i], df.columns[j]))"
   ]
  },
  {
   "cell_type": "code",
   "execution_count": 55,
   "metadata": {},
   "outputs": [],
   "source": [
    "import random\n",
    "\n",
    "def flip_image(x, labels):\n",
    "    is_flip = bool(random.getrandbits(1))\n",
    "    if is_flip:\n",
    "        x = x[:, :, ::-1, :]\n",
    "        values = []\n",
    "        for i in range(labels.shape[1]):\n",
    "            label = labels[:, i]\n",
    "            label = tf.reshape(label, [-1, 1])\n",
    "            if i % 2 == 0:\n",
    "                values.append(label * -1)\n",
    "            else:\n",
    "                values.append(label)\n",
    "        labels = tf.concat(values, axis=1)\n",
    "        # Swap places, e.g. left_eye_center_x -> right_eye_center_x\n",
    "        new_labels = []\n",
    "        for i in range (30):\n",
    "            got = False\n",
    "            for a, b in flip_indices:\n",
    "                if a == i:\n",
    "                    label = labels[:, b]\n",
    "                    label = tf.reshape(label, [-1, 1])\n",
    "                    new_labels.append(label)\n",
    "                    got = True\n",
    "                    break\n",
    "                elif b == i:\n",
    "                    label = labels[:, a]\n",
    "                    label = tf.reshape(label, [-1, 1])\n",
    "                    new_labels.append(label)\n",
    "                    got = True\n",
    "                    break\n",
    "            if got is False:\n",
    "                label = labels[:, i]\n",
    "                label = tf.reshape(label, [-1, 1])\n",
    "                new_labels.append(label)\n",
    "        labels = tf.concat(new_labels, axis=1)\n",
    "    return x, labels    "
   ]
  },
  {
   "cell_type": "code",
   "execution_count": 72,
   "metadata": {},
   "outputs": [],
   "source": [
    "from datetime import datetime\n",
    "import time \n",
    "\n",
    "NUM_EPOCHS = 10000\n",
    "NUM_STEPS = 17\n",
    "BATCH = 128\n",
    "\n",
    "def train_():\n",
    "    with tf.Graph().as_default():\n",
    "        x = tf.placeholder(dtype='float32',\n",
    "                           shape=[None, 96, 96, 1],\n",
    "                           name='x')\n",
    "        labels = tf.placeholder(dtype='float32',\n",
    "                                shape=[None, 30],\n",
    "                                name='labels')\n",
    "        dataset = tf.contrib.data.Dataset.from_tensor_slices((x, labels)).batch(BATCH).map(flip_image)\n",
    "        iterator = dataset.make_initializable_iterator()\n",
    "        \n",
    "        learning_rate = tf.placeholder(tf.float32)\n",
    "        momentum = tf.placeholder(tf.float32)\n",
    "        \n",
    "        next_x, next_y = iterator.get_next()\n",
    "        scores = inference(next_x)\n",
    "        total_loss = loss(scores, next_y)\n",
    "        train_op = train(total_loss, learning_rate, momentum)\n",
    "\n",
    "        saver = tf.train.Saver()\n",
    "\n",
    "        with tf.Session() as sess:\n",
    "            sess.run(tf.global_variables_initializer())\n",
    "            for i in range(NUM_EPOCHS):\n",
    "                sess.run(iterator.initializer, feed_dict={x: X, labels: y})\n",
    "                lr = (0.03 * (NUM_EPOCHS - i) + i * 0.0001) / NUM_EPOCHS\n",
    "                mom = (0.9 * (NUM_EPOCHS - i) + i * 0.999) / NUM_EPOCHS\n",
    "                for j in range(0, NUM_STEPS):\n",
    "                    loss_, _ = sess.run([total_loss, train_op], feed_dict={learning_rate: lr, momentum: mom})\n",
    "                print(loss_)\n",
    "                dest_directory = os.path.join('face_data_conv', 'face_train')\n",
    "                checkpoint_name = os.path.join(dest_directory,\n",
    "                                           'model_epoch'+str(i)+'.ckpt')\n",
    "                save_path = saver.save(sess, checkpoint_name)\n",
    "                print(\"{} Model checkpoint saved at {}\".format(datetime.now(),\n",
    "                                                           checkpoint_name))"
   ]
  },
  {
   "cell_type": "code",
   "execution_count": null,
   "metadata": {
    "scrolled": true
   },
   "outputs": [
    {
     "name": "stdout",
     "output_type": "stream",
     "text": [
      "0.0165389\n",
      "2018-06-24 11:00:05.923997 Model checkpoint saved at face_data_conv/face_train/model_epoch0.ckpt\n"
     ]
    }
   ],
   "source": [
    "dest_directory = os.path.join('face_data_conv', 'face_train')\n",
    "if tf.gfile.Exists(dest_directory):\n",
    "    tf.gfile.DeleteRecursively(dest_directory)\n",
    "tf.gfile.MakeDirs(dest_directory)\n",
    "train_()"
   ]
  },
  {
   "cell_type": "code",
   "execution_count": 84,
   "metadata": {},
   "outputs": [],
   "source": [
    "SPECIALIST_SETTINGS = [\n",
    "    dict(\n",
    "        columns=(\n",
    "            'left_eye_center_x', 'left_eye_center_y',\n",
    "            'right_eye_center_x', 'right_eye_center_y',\n",
    "            ),\n",
    "        flip_indices=((0, 2), (1, 3)),\n",
    "        ),\n",
    "\n",
    "    dict(\n",
    "        columns=(\n",
    "            'nose_tip_x', 'nose_tip_y',\n",
    "            ),\n",
    "        flip_indices=(),\n",
    "        ),\n",
    "\n",
    "    dict(\n",
    "        columns=(\n",
    "            'mouth_left_corner_x', 'mouth_left_corner_y',\n",
    "            'mouth_right_corner_x', 'mouth_right_corner_y',\n",
    "            'mouth_center_top_lip_x', 'mouth_center_top_lip_y',\n",
    "            ),\n",
    "        flip_indices=((0, 2), (1, 3)),\n",
    "        ),\n",
    "\n",
    "    dict(\n",
    "        columns=(\n",
    "            'mouth_center_bottom_lip_x',\n",
    "            'mouth_center_bottom_lip_y',\n",
    "            ),\n",
    "        flip_indices=(),\n",
    "        ),\n",
    "\n",
    "    dict(\n",
    "        columns=(\n",
    "            'left_eye_inner_corner_x', 'left_eye_inner_corner_y',\n",
    "            'right_eye_inner_corner_x', 'right_eye_inner_corner_y',\n",
    "            'left_eye_outer_corner_x', 'left_eye_outer_corner_y',\n",
    "            'right_eye_outer_corner_x', 'right_eye_outer_corner_y',\n",
    "            ),\n",
    "        flip_indices=((0, 2), (1, 3), (4, 6), (5, 7)),\n",
    "        ),\n",
    "\n",
    "    dict(\n",
    "        columns=(\n",
    "            'left_eyebrow_inner_end_x', 'left_eyebrow_inner_end_y',\n",
    "            'right_eyebrow_inner_end_x', 'right_eyebrow_inner_end_y',\n",
    "            'left_eyebrow_outer_end_x', 'left_eyebrow_outer_end_y',\n",
    "            'right_eyebrow_outer_end_x', 'right_eyebrow_outer_end_y',\n",
    "            ),\n",
    "        flip_indices=((0, 2), (1, 3), (4, 6), (5, 7)),\n",
    "        ),\n",
    "    ]"
   ]
  }
 ],
 "metadata": {
  "kernelspec": {
   "display_name": "Python 3",
   "language": "python",
   "name": "python3"
  },
  "language_info": {
   "codemirror_mode": {
    "name": "ipython",
    "version": 3
   },
   "file_extension": ".py",
   "mimetype": "text/x-python",
   "name": "python",
   "nbconvert_exporter": "python",
   "pygments_lexer": "ipython3",
   "version": "3.5.2"
  }
 },
 "nbformat": 4,
 "nbformat_minor": 2
}
